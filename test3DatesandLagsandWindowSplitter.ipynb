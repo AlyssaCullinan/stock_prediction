{
 "cells": [
  {
   "cell_type": "code",
   "execution_count": 8,
   "metadata": {},
   "outputs": [],
   "source": [
    "from config import API_KEY\n",
    "import pandas as pd\n",
    "import plotly.express as px\n",
    "import matplotlib.pyplot as plt\n"
   ]
  },
  {
   "cell_type": "code",
   "execution_count": 9,
   "metadata": {},
   "outputs": [],
   "source": [
    "# Data Collection\n",
    "from tiingo import TiingoClient\n",
    "from datetime import datetime, timedelta\n",
    "\n",
    "config = {\n",
    "    'api_key': API_KEY,\n",
    "    'session': True  # Use requests.Session\n",
    "}\n",
    "client = TiingoClient(config)\n",
    "\n",
    "# Calculate the start date as today's date minus 2 years\n",
    "end_date = datetime.now()\n",
    "start_date = end_date - timedelta(days=20*365)\n",
    "\n",
    "# Convert dates to string format\n",
    "start_date_str = start_date.strftime('%Y-%m-%d')\n",
    "end_date_str = end_date.strftime('%Y-%m-%d')\n",
    "\n",
    "df = client.get_dataframe('MSFT', frequency='daily',startDate=start_date_str, endDate=end_date_str)"
   ]
  },
  {
   "cell_type": "code",
   "execution_count": 4,
   "metadata": {},
   "outputs": [
    {
     "name": "stderr",
     "output_type": "stream",
     "text": [
      "c:\\Users\\alyss\\anaconda3\\envs\\pycaret\\lib\\site-packages\\pandas\\core\\arrays\\datetimes.py:1162: UserWarning: Converting to PeriodArray/Index representation will drop timezone information.\n",
      "  warnings.warn(\n"
     ]
    },
    {
     "data": {
      "text/plain": [
       "PeriodIndex(['2004-02-25', '2004-02-26', '2004-02-27', '2004-03-01',\n",
       "             '2004-03-02', '2004-03-03', '2004-03-04', '2004-03-05',\n",
       "             '2004-03-08', '2004-03-09',\n",
       "             ...\n",
       "             '2024-02-06', '2024-02-07', '2024-02-08', '2024-02-09',\n",
       "             '2024-02-12', '2024-02-13', '2024-02-14', '2024-02-15',\n",
       "             '2024-02-16', '2024-02-20'],\n",
       "            dtype='period[B]', name='date', length=5031)"
      ]
     },
     "execution_count": 4,
     "metadata": {},
     "output_type": "execute_result"
    }
   ],
   "source": [
    "# change time period to business days\n",
    "# df.index = pd.to_datetime(df.index).to_period('B')\n",
    "\n",
    "df.index\n"
   ]
  },
  {
   "cell_type": "code",
   "execution_count": 6,
   "metadata": {},
   "outputs": [
    {
     "data": {
      "text/plain": [
       "PeriodIndex(['2004-02-25', '2004-02-26', '2004-02-27', '2004-02-28',\n",
       "             '2004-02-29', '2004-03-01', '2004-03-02', '2004-03-03',\n",
       "             '2004-03-04', '2004-03-05',\n",
       "             ...\n",
       "             '2024-02-11', '2024-02-12', '2024-02-13', '2024-02-14',\n",
       "             '2024-02-15', '2024-02-16', '2024-02-17', '2024-02-18',\n",
       "             '2024-02-19', '2024-02-20'],\n",
       "            dtype='period[D]', length=7301)"
      ]
     },
     "execution_count": 6,
     "metadata": {},
     "output_type": "execute_result"
    }
   ],
   "source": [
    "# get index range\n",
    "# idx = pd.period_range(min(df.index), max(df.index))\n",
    "# idx"
   ]
  },
  {
   "cell_type": "code",
   "execution_count": null,
   "metadata": {},
   "outputs": [],
   "source": [
    "# the days that data was not available - market was closed\n",
    "# df.index.symmetric_difference(idx)"
   ]
  },
  {
   "cell_type": "code",
   "execution_count": 10,
   "metadata": {},
   "outputs": [],
   "source": [
    "import numpy as np\n",
    "# reindex and fill null values with nan\n",
    "# df = df.reindex(idx,fill_value=np.nan)\n",
    "# df.head()"
   ]
  },
  {
   "cell_type": "code",
   "execution_count": 11,
   "metadata": {},
   "outputs": [
    {
     "data": {
      "text/plain": [
       "<AxesSubplot: xlabel='date'>"
      ]
     },
     "execution_count": 11,
     "metadata": {},
     "output_type": "execute_result"
    },
    {
     "data": {
      "image/png": "[encoded data removed]",
      "text/plain": [
       "<Figure size 640x480 with 1 Axes>"
      ]
     },
     "metadata": {},
     "output_type": "display_data"
    }
   ],
   "source": [
    "diffs = df.diff()\n",
    "\n",
    "# this de-trends your data\n",
    "diffs.adjClose.plot()"
   ]
  },
  {
   "cell_type": "code",
   "execution_count": 12,
   "metadata": {},
   "outputs": [
    {
     "data": {
      "text/plain": [
       "<bound method DataFrame.dropna of                            adjClose    adjHigh     adjLow    adjOpen  \\\n",
       "date                                                                   \n",
       "2004-02-25 00:00:00+00:00       NaN        NaN        NaN        NaN   \n",
       "2004-02-26 00:00:00+00:00 -0.125110  -0.212687  -0.125110  -0.162643   \n",
       "2004-02-27 00:00:00+00:00  0.018767  -0.018767  -0.037533  -0.093833   \n",
       "2004-03-01 00:00:00+00:00  0.106344   0.062555   0.093833   0.106344   \n",
       "2004-03-02 00:00:00+00:00 -0.193921  -0.018767  -0.093833  -0.012511   \n",
       "...                             ...        ...        ...        ...   \n",
       "2024-02-13 00:00:00+00:00 -8.923656 -10.649495 -11.339232 -15.586453   \n",
       "2024-02-14 00:00:00+00:00  3.912833   0.518691   1.917477   3.870311   \n",
       "2024-02-15 00:00:00+00:00 -2.930000  -0.710000  -0.280000   0.070000   \n",
       "2024-02-16 00:00:00+00:00 -2.500000  -0.840000  -0.850000  -0.180000   \n",
       "2024-02-20 00:00:00+00:00 -1.270000  -3.800000  -5.430000  -4.720000   \n",
       "\n",
       "                            adjVolume  divCash  splitFactor  \n",
       "date                                                         \n",
       "2004-02-25 00:00:00+00:00         NaN      NaN          NaN  \n",
       "2004-02-26 00:00:00+00:00   2327000.0     0.00          0.0  \n",
       "2004-02-27 00:00:00+00:00  -8336200.0     0.00          0.0  \n",
       "2004-03-01 00:00:00+00:00  -6354200.0     0.00          0.0  \n",
       "2004-03-02 00:00:00+00:00  14418700.0     0.00          0.0  \n",
       "...                               ...      ...          ...  \n",
       "2024-02-13 00:00:00+00:00   6622015.0     0.00          0.0  \n",
       "2024-02-14 00:00:00+00:00  -7423746.0     0.75          0.0  \n",
       "2024-02-15 00:00:00+00:00   1424335.0    -0.75          0.0  \n",
       "2024-02-16 00:00:00+00:00    470970.0     0.00          0.0  \n",
       "2024-02-20 00:00:00+00:00   1745339.0     0.00          0.0  \n",
       "\n",
       "[5031 rows x 7 columns]>"
      ]
     },
     "execution_count": 12,
     "metadata": {},
     "output_type": "execute_result"
    }
   ],
   "source": [
    "\n",
    "diffs\n",
    "\n",
    "data = diffs.loc[:,'adjClose':].dropna\n",
    "data\n",
    "\n",
    "# np.float128(data)\n",
    "# data.adjClose.astype('float64')"
   ]
  },
  {
   "cell_type": "code",
   "execution_count": null,
   "metadata": {},
   "outputs": [],
   "source": []
  },
  {
   "cell_type": "code",
   "execution_count": null,
   "metadata": {},
   "outputs": [],
   "source": []
  },
  {
   "cell_type": "code",
   "execution_count": null,
   "metadata": {},
   "outputs": [],
   "source": [
    "# forward fill so that days where the market was closed will have the stock price for the previous day\n",
    "df = df.fillna(method='ffill')\n",
    "df.head()"
   ]
  },
  {
   "cell_type": "code",
   "execution_count": null,
   "metadata": {},
   "outputs": [],
   "source": [
    "df.plot()\n",
    "plt.show()"
   ]
  },
  {
   "cell_type": "code",
   "execution_count": null,
   "metadata": {},
   "outputs": [],
   "source": [
    "df.drop(['volume','close','high','low','open','adjVolume','divCash'],axis=1,inplace=True)\n",
    "df = df[['adjClose']]\n",
    "df.head()\n"
   ]
  },
  {
   "cell_type": "code",
   "execution_count": null,
   "metadata": {},
   "outputs": [],
   "source": []
  },
  {
   "cell_type": "code",
   "execution_count": null,
   "metadata": {},
   "outputs": [],
   "source": [
    "df = df.dropna()\n",
    "df"
   ]
  },
  {
   "cell_type": "code",
   "execution_count": null,
   "metadata": {},
   "outputs": [],
   "source": [
    "# Split Train Test into 80/20 ratio\n",
    "\n",
    "pos=int(round(len(df)*(0.8)))\n",
    "train=df[:pos]\n",
    "test=df[pos:]\n",
    "train.shape, test.shape"
   ]
  },
  {
   "cell_type": "code",
   "execution_count": null,
   "metadata": {},
   "outputs": [],
   "source": [
    "\n"
   ]
  },
  {
   "cell_type": "code",
   "execution_count": null,
   "metadata": {},
   "outputs": [],
   "source": [
    "from sktime.forecasting.model_selection import SlidingWindowSplitter\n",
    "\n",
    "ts = np.arange(10)\n",
    "splitter=SlidingWindowSplitter"
   ]
  },
  {
   "cell_type": "code",
   "execution_count": null,
   "metadata": {},
   "outputs": [],
   "source": [
    "# from pycaret.regression import *\n",
    "# features = lag_features\n",
    "# close_s = setup(data=train, test_data=test, target='adjClose', fold_strategy='timeseries', feature_selection=lag_features, data_split_shuffle=False, fold_shuffle=False, session_id=123)\n"
   ]
  },
  {
   "cell_type": "code",
   "execution_count": null,
   "metadata": {},
   "outputs": [],
   "source": [
    "from pycaret.time_series import *\n",
    "setup(data=train, target='adjClose',fh = 7, fold = 3,seasonal_period=90, session_id = 123)"
   ]
  },
  {
   "cell_type": "code",
   "execution_count": null,
   "metadata": {},
   "outputs": [],
   "source": [
    "close_best = compare_models(sort = 'R2')"
   ]
  },
  {
   "cell_type": "code",
   "execution_count": null,
   "metadata": {},
   "outputs": [],
   "source": [
    "prediction = predict_model(close_best, fh = 90)\n",
    "prediction.head(60)\n"
   ]
  }
 ],
 "metadata": {
  "kernelspec": {
   "display_name": "pycaret",
   "language": "python",
   "name": "python3"
  },
  "language_info": {
   "codemirror_mode": {
    "name": "ipython",
    "version": 3
   },
   "file_extension": ".py",
   "mimetype": "text/x-python",
   "name": "python",
   "nbconvert_exporter": "python",
   "pygments_lexer": "ipython3",
   "version": "3.8.18"
  }
 },
 "nbformat": 4,
 "nbformat_minor": 2
}

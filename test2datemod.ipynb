{
 "cells": [
  {
   "cell_type": "code",
   "execution_count": null,
   "metadata": {},
   "outputs": [],
   "source": [
    "from config import API_KEY\n",
    "import pandas as pd\n",
    "import plotly.express as px\n",
    "import matplotlib.pyplot as plt\n"
   ]
  },
  {
   "cell_type": "code",
   "execution_count": null,
   "metadata": {},
   "outputs": [],
   "source": [
    "# Data Collection\n",
    "from tiingo import TiingoClient\n",
    "from datetime import datetime, timedelta\n",
    "\n",
    "config = {\n",
    "    'api_key': API_KEY,\n",
    "    'session': True  # Use requests.Session\n",
    "}\n",
    "client = TiingoClient(config)\n",
    "\n",
    "# Calculate the start date as today's date minus 2 years\n",
    "end_date = datetime.now()\n",
    "start_date = end_date - timedelta(days=20*365)\n",
    "\n",
    "# Convert dates to string format\n",
    "start_date_str = start_date.strftime('%Y-%m-%d')\n",
    "end_date_str = end_date.strftime('%Y-%m-%d')\n",
    "\n",
    "df = client.get_dataframe('MSFT', frequency='daily',startDate=start_date_str, endDate=end_date_str)"
   ]
  },
  {
   "cell_type": "code",
   "execution_count": null,
   "metadata": {},
   "outputs": [],
   "source": [
    "df2  = df\n",
    "df"
   ]
  },
  {
   "cell_type": "code",
   "execution_count": null,
   "metadata": {},
   "outputs": [],
   "source": [
    "df.index = pd.to_datetime(df.index).to_period('B')\n",
    "\n",
    "\n",
    "\n",
    "# df.reset_index(inplace=True)\n",
    "# df.rename(columns={'index': 'new_index'}, inplace=True)  # Rename the old index column\n",
    "# df['date'] = df['date'].dt.date  # Extract the date part from the datetime index\n",
    "# df"
   ]
  },
  {
   "cell_type": "code",
   "execution_count": null,
   "metadata": {},
   "outputs": [],
   "source": [
    "df.index\n",
    "\n"
   ]
  },
  {
   "cell_type": "code",
   "execution_count": null,
   "metadata": {},
   "outputs": [],
   "source": [
    "idx = pd.period_range(min(df.index), max(df.index))\n",
    "idx\n",
    "\n"
   ]
  },
  {
   "cell_type": "code",
   "execution_count": null,
   "metadata": {},
   "outputs": [],
   "source": [
    "# the days that data was not available - market was closed\n",
    "df.index.symmetric_difference(idx)"
   ]
  },
  {
   "cell_type": "code",
   "execution_count": null,
   "metadata": {},
   "outputs": [],
   "source": []
  },
  {
   "cell_type": "code",
   "execution_count": null,
   "metadata": {},
   "outputs": [],
   "source": [
    "# reindex\n",
    "df = df.reindex(idx,fill_value=np.nan)\n",
    "df.head()"
   ]
  },
  {
   "cell_type": "code",
   "execution_count": null,
   "metadata": {},
   "outputs": [],
   "source": [
    "df = df.fillna(method='ffill')\n",
    "df.head()"
   ]
  },
  {
   "cell_type": "code",
   "execution_count": null,
   "metadata": {},
   "outputs": [],
   "source": [
    "df.plot()\n",
    "plt.show()"
   ]
  },
  {
   "cell_type": "code",
   "execution_count": null,
   "metadata": {},
   "outputs": [],
   "source": [
    "# Check if the index is a RangeIndex\n"
   ]
  },
  {
   "cell_type": "code",
   "execution_count": null,
   "metadata": {},
   "outputs": [],
   "source": [
    "# df.reset_index(inplace=True)\n",
    "# df.rename(columns={'index': 'new_index'}, inplace=True)  # Rename the old index column\n",
    "# df['date'] = df['new_index'].to_timestamp('D').date\n",
    "# df['date'] = df['date'].dt.date  # Extract the date part from the datetime index\n",
    "# # \n",
    "# # Convert the 'date' column to datetime format\n",
    "\n",
    "\n",
    "df"
   ]
  },
  {
   "cell_type": "code",
   "execution_count": null,
   "metadata": {},
   "outputs": [],
   "source": [
    "#  extract month and year from dates\n",
    "# df['Month'] = [i.month for i in df['date']]\n",
    "# df['Year'] = [i.year for i in df['date']]\n",
    "# df['Day'] = [i.day for i in df['date']]"
   ]
  },
  {
   "cell_type": "code",
   "execution_count": null,
   "metadata": {},
   "outputs": [],
   "source": [
    " \n",
    "# # create a sequence of numbers\n",
    "# df['Series'] = np.arange(1,len(df)+1)"
   ]
  },
  {
   "cell_type": "code",
   "execution_count": null,
   "metadata": {},
   "outputs": [],
   "source": [
    "df.drop(['volume','close','high','low','open','adjVolume','divCash'],axis=1,inplace=True)\n",
    "df = df[['Year','Month','Day','adjClose','adjHigh','adjLow','adjOpen','date']]\n",
    "df.head()\n",
    "\n",
    "\n"
   ]
  },
  {
   "cell_type": "code",
   "execution_count": null,
   "metadata": {},
   "outputs": [],
   "source": [
    "\n",
    "# Assuming your data is sorted by time\n",
    "# Create a lag feature to represent the previous values\n",
    "for i in range(1, 22):  # Assuming you want to use the first 15 points to predict the next one\n",
    "    df[f'lag_{i}'] = df['adjClose'].shift(i)"
   ]
  },
  {
   "cell_type": "code",
   "execution_count": null,
   "metadata": {},
   "outputs": [],
   "source": [
    "# Drop the first row since it doesn't have a previous day's closing price to compare with\n",
    "df = df.dropna()"
   ]
  },
  {
   "cell_type": "code",
   "execution_count": null,
   "metadata": {},
   "outputs": [],
   "source": [
    "df_copy = df.copy()\n",
    "df_copy"
   ]
  },
  {
   "cell_type": "code",
   "execution_count": null,
   "metadata": {},
   "outputs": [],
   "source": [
    "df_copy.drop(['date'],axis=1,inplace=True)"
   ]
  },
  {
   "cell_type": "code",
   "execution_count": null,
   "metadata": {},
   "outputs": [],
   "source": [
    "df_copy.head()"
   ]
  },
  {
   "cell_type": "code",
   "execution_count": null,
   "metadata": {},
   "outputs": [],
   "source": [
    "# Split Train Test into 80/20 ratio\n",
    "\n",
    "pos=int(round(len(df)*(0.8)))\n",
    "train=df[:pos]\n",
    "test=df[pos:]\n",
    "train.shape, test.shape\n",
    "# int(round(len(df)*(1-0.2)))\n"
   ]
  },
  {
   "cell_type": "code",
   "execution_count": null,
   "metadata": {},
   "outputs": [],
   "source": [
    "# split data into train-test set\n",
    "# train = df[df['Year'] < 2023]\n",
    "# test = df[df['Year'] >= 2023]\n",
    "# check shape\n",
    "\n",
    "lag_features = ', '.join([f'\"{lag}\"' for lag in df.columns if 'lag_' in lag])\n",
    "print(lag_features)\n",
    "\n",
    "\n"
   ]
  },
  {
   "cell_type": "code",
   "execution_count": null,
   "metadata": {},
   "outputs": [],
   "source": [
    "# Setup the classification task with time series configuration\n",
    "# import the regression module\n",
    "\n",
    "from pycaret.regression import *\n",
    "features = lag_features\n",
    "close_s = setup(data=train, test_data=test, target='adjClose', fold_strategy='timeseries', feature_selection=lag_features, data_split_shuffle=False, fold_shuffle=False, session_id=123)\n",
    "\n",
    "\n",
    "# from pycaret.regression import *\n",
    "# # initialize setup\n",
    "# close_s = setup(data=train, test_data=test, target='adjClose', fold_strategy='timeseries', numeric_features=['Year'], data_split_shuffle=False, fold_shuffle=False, session_id=123)\n",
    "\n",
    "# # import pycaret classification and init setup\n",
    "# from pycaret.time_series import *\n",
    "# close_s=setup(data=train,target='adjClose',fh = 7, fold = 3, seasonal_period = 5, session_id = 123)"
   ]
  },
  {
   "cell_type": "code",
   "execution_count": null,
   "metadata": {},
   "outputs": [],
   "source": [
    "close_best = compare_models(sort = 'MAE')"
   ]
  },
  {
   "cell_type": "markdown",
   "metadata": {},
   "source": [
    "Analyze Model"
   ]
  },
  {
   "cell_type": "code",
   "execution_count": null,
   "metadata": {},
   "outputs": [],
   "source": [
    "evaluate_model(close_best)"
   ]
  },
  {
   "cell_type": "code",
   "execution_count": null,
   "metadata": {},
   "outputs": [],
   "source": [
    "prediction_holdout = predict_model(close_best)"
   ]
  },
  {
   "cell_type": "markdown",
   "metadata": {},
   "source": [
    "Prediction"
   ]
  },
  {
   "cell_type": "code",
   "execution_count": null,
   "metadata": {},
   "outputs": [],
   "source": [
    "# generate predictions on the original dataset\n",
    "# predictions = predict_model(close_best)\n",
    "predictions = predict_model(close_best, data=df)\n"
   ]
  },
  {
   "cell_type": "code",
   "execution_count": null,
   "metadata": {},
   "outputs": [],
   "source": [
    "predictions"
   ]
  },
  {
   "cell_type": "code",
   "execution_count": null,
   "metadata": {},
   "outputs": [],
   "source": [
    "predictions['date'] = df_copy['date']"
   ]
  },
  {
   "cell_type": "code",
   "execution_count": null,
   "metadata": {},
   "outputs": [],
   "source": [
    "predictions"
   ]
  },
  {
   "cell_type": "code",
   "execution_count": null,
   "metadata": {},
   "outputs": [],
   "source": [
    "predictions"
   ]
  },
  {
   "cell_type": "code",
   "execution_count": null,
   "metadata": {},
   "outputs": [],
   "source": [
    "#  Line plot\n",
    "fig = px.line(predictions, x='date', y=[\"adjOpen\",\"Label\"], template='plotly_dark')\n",
    "\n",
    "# Add a vertical rectangle for test-set separation\n",
    "fig.add_vrect(x0=\"2023-01-01\", x1=\"2024-31-01\", fillcolor=\"grey\", opacity=0.25, line_width=0)\n",
    "\n",
    "# Show the plot\n",
    "fig.show()"
   ]
  },
  {
   "cell_type": "code",
   "execution_count": null,
   "metadata": {},
   "outputs": [],
   "source": [
    "final_best = finalize_model(close_best)\n",
    "final_best"
   ]
  },
  {
   "cell_type": "code",
   "execution_count": null,
   "metadata": {},
   "outputs": [],
   "source": [
    "# # Create a future scoring dataset\n",
    "\n",
    "future_dates = pd.date_range(start='2024-02-17', end='2024-03-17', freq='B')\n",
    "\n",
    "# Create a DataFrame for future dates\n",
    "future_df = pd.DataFrame({\n",
    "    'date': future_dates,\n",
    "    'Series': np.arange(7548, 7548 + len(future_dates)),  # Assuming you want to continue the series numbering\n",
    "    'Year': [d.year for d in future_dates],\n",
    "    'Month': [d.month for d in future_dates],\n",
    "    'Day': [d.day for d in future_dates],\n",
    "    \n",
    "    \n",
    "    \n",
    "    \n",
    "})\n",
    "\n",
    "future_df.head()"
   ]
  },
  {
   "cell_type": "code",
   "execution_count": null,
   "metadata": {},
   "outputs": [],
   "source": [
    "# #  Get the last date in your original DataFrame\n",
    "# last_date = df_copy['date'].max()\n",
    "\n",
    "# # Generate future dates starting from the next day after the last date\n",
    "# future_dates = pd.date_range(start=last_date + pd.DateOffset(days=1), periods=365, freq='D')\n",
    "\n",
    "# # Create a DataFrame with the future dates\n",
    "# future_df = pd.DataFrame({'date': future_dates})\n",
    "\n",
    "# # Add other columns to the future DataFrame if needed\n",
    "# future_df['Year'] = future_df['date'].dt.year\n",
    "# future_df['Month'] = future_df['date'].dt.month\n",
    "# future_df['Day'] = future_df['date'].dt.day\n",
    "# future_df"
   ]
  },
  {
   "cell_type": "code",
   "execution_count": null,
   "metadata": {},
   "outputs": [],
   "source": [
    "\n",
    "predictions_future = predict_model(final_best, data=future_df)\n",
    "predictions_future"
   ]
  },
  {
   "cell_type": "code",
   "execution_count": null,
   "metadata": {},
   "outputs": [],
   "source": [
    "concat_df = pd.concat([predictions, predictions_future], axis=0)\n",
    "\n",
    "# Set the index of concat_df to the date column\n",
    "concat_df.set_index('date', inplace=True)\n",
    "\n",
    "# Plot the data\n",
    "fig = px.line(concat_df, x=concat_df.index, y=[\"close\", \"prediction_label\"], template='plotly_dark')\n",
    "fig.show()"
   ]
  }
 ],
 "metadata": {
  "kernelspec": {
   "display_name": "dev",
   "language": "python",
   "name": "python3"
  },
  "language_info": {
   "codemirror_mode": {
    "name": "ipython",
    "version": 3
   },
   "file_extension": ".py",
   "mimetype": "text/x-python",
   "name": "python",
   "nbconvert_exporter": "python",
   "pygments_lexer": "ipython3",
   "version": "3.10.13"
  }
 },
 "nbformat": 4,
 "nbformat_minor": 2
}
